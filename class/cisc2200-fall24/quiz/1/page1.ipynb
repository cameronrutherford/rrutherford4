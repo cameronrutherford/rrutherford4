{
 "cells": [
  {
   "cell_type": "raw",
   "id": "ea8d0b29-531b-477b-b18b-908c3f21fc1b",
   "metadata": {},
   "source": [
    "---\n",
    "title: Page 1 Results\n",
    "format: \n",
    "  html: \n",
    "    default: true\n",
    "---"
   ]
  },
  {
   "cell_type": "markdown",
   "id": "f82e3d08-0f4f-4d71-97b7-47223e90ba3f",
   "metadata": {},
   "source": [
    "# Page 1 Results Summary\n",
    "\n",
    "This is a notebook that I used to processed the `.csv` data from each question.\n",
    "I could just embed it directly into the quarto, but this separation allows me to better outline my thinking while I develop and debug."
   ]
  },
  {
   "cell_type": "markdown",
   "id": "4e802bef-3ccc-4028-8ca7-b37f34081fcc",
   "metadata": {},
   "source": [
    "## Shuffling the results\n",
    "\n",
    "I will only show the working here once, as I have a workflow in the future.\n",
    "\n",
    "I am running a notebook on my mac where I use homebrew as a package manager. To shuffle a file inplace, we can use the linux utility shuf, which is a part of coreutils."
   ]
  },
  {
   "cell_type": "code",
   "execution_count": 1,
   "id": "a8f1c26b-296b-4d8d-a5bb-02c87a101170",
   "metadata": {},
   "outputs": [],
   "source": [
    "# !brew install coreutils"
   ]
  },
  {
   "cell_type": "markdown",
   "id": "b9640c2f-cfe5-4349-9091-68cd4761d173",
   "metadata": {},
   "source": [
    "I needed the following command to be ran to properly get the install to go through..."
   ]
  },
  {
   "cell_type": "code",
   "execution_count": 2,
   "id": "97a8582a-62e9-4b59-8d7c-480ab4981d32",
   "metadata": {},
   "outputs": [],
   "source": [
    "# !brew unlink md5sha1sum"
   ]
  },
  {
   "cell_type": "code",
   "execution_count": 3,
   "id": "0afcd463-ed3c-4329-8200-22e1b5ba9151",
   "metadata": {},
   "outputs": [],
   "source": [
    "# !brew install coreutils"
   ]
  },
  {
   "cell_type": "code",
   "execution_count": 4,
   "id": "ba24762c-8329-4144-a0d5-17df35cc5c64",
   "metadata": {},
   "outputs": [],
   "source": [
    "# !shuf --version"
   ]
  },
  {
   "cell_type": "code",
   "execution_count": 5,
   "id": "db802d87-db10-4f72-ac32-9286aa89b59f",
   "metadata": {},
   "outputs": [],
   "source": [
    "# !cat page1.csv"
   ]
  },
  {
   "cell_type": "code",
   "execution_count": 6,
   "id": "194fb6a1-f950-4c28-b7a5-0de141fdf94b",
   "metadata": {},
   "outputs": [],
   "source": [
    "# !shuf --output=page1.csv <page1.csv"
   ]
  },
  {
   "cell_type": "code",
   "execution_count": 7,
   "id": "7c4dbf28-bfe8-4759-a9e4-841301a3ac1a",
   "metadata": {},
   "outputs": [],
   "source": [
    "# !cat page1.csv"
   ]
  },
  {
   "cell_type": "markdown",
   "id": "f51c10c5-42c2-442e-ab32-42ca064d314c",
   "metadata": {},
   "source": [
    "Since I ran this notebook more than once, the initial CSV is now completely lost..."
   ]
  },
  {
   "cell_type": "markdown",
   "id": "de6449f4-5575-49b0-adc5-e11564028579",
   "metadata": {},
   "source": [
    "## Per-question results\n",
    "\n",
    "### Question 0 - preparing data\n",
    "\n",
    "We will be reading the data here, and processing later.."
   ]
  },
  {
   "cell_type": "code",
   "execution_count": 8,
   "id": "180fd588-693e-465e-8338-81648dfab495",
   "metadata": {},
   "outputs": [
    {
     "name": "stdout",
     "output_type": "stream",
     "text": [
      "Question 1: a) Scores [[5], [5], [5], [5], [5], [3], [5], [5], [5], [5], [2], [5], [5], [5], [5], [5], [5], [5], [5], [5], [3], [5], [5], [5], [5], [5], [5], [5], [5], [5], [3]]\n"
     ]
    }
   ],
   "source": [
    "import csv\n",
    "import numpy as np\n",
    "\n",
    "results = []\n",
    "\n",
    "with open('page1.csv') as csv_file:\n",
    "    csv_reader = csv.reader(csv_file, delimiter=\",\")\n",
    "    for row in csv_reader:\n",
    "        results.append(list(map(int, row)))\n",
    "\n",
    "res_array = np.array(results)\n",
    "\n",
    "print(f\"Question 1: a) Scores {res_array[:,:1].tolist()}\")  "
   ]
  },
  {
   "cell_type": "markdown",
   "id": "9f0fba15-d625-4b3e-bf13-9c1a7302c78b",
   "metadata": {},
   "source": [
    "I decided Numpy would be easy enough to lean on here since it's a math library..."
   ]
  },
  {
   "cell_type": "markdown",
   "id": "58e0a063-1d86-40a1-af24-d306b314332e",
   "metadata": {},
   "source": [
    "### Question 1\n",
    "\n",
    "#### a. A pointer variable is used to:"
   ]
  },
  {
   "cell_type": "code",
   "execution_count": 9,
   "id": "fb15d87e-40b1-483b-8f8f-a221c43cb06f",
   "metadata": {},
   "outputs": [],
   "source": [
    "import matplotlib.pyplot as plt\n",
    "\n",
    "def print_stats(A, bins = [x + 0.1 for x in range(-1,6)]):\n",
    "    print(f\"Results: {A.tolist()}\")\n",
    "    print(f\"Mean: {np.mean(A)}\")\n",
    "    print(f\"Median: {np.median(A)}\")\n",
    "    vals, counts = np.unique(A, return_counts=True)\n",
    "    print(f\"Mode: {vals[np.argmax(counts)]} With count: {counts[np.argmax(counts)]}\")\n",
    "    plt.hist(A, bins = bins, align='right')"
   ]
  },
  {
   "cell_type": "code",
   "execution_count": 10,
   "id": "f832bc33-496b-425f-8e58-66b0066b2ec5",
   "metadata": {},
   "outputs": [
    {
     "name": "stdout",
     "output_type": "stream",
     "text": [
      "Results: [[5], [5], [5], [5], [5], [3], [5], [5], [5], [5], [2], [5], [5], [5], [5], [5], [5], [5], [5], [5], [3], [5], [5], [5], [5], [5], [5], [5], [5], [5], [3]]\n",
      "Mean: 4.709677419354839\n",
      "Median: 5.0\n",
      "Mode: 5 With count: 27\n"
     ]
    },
    {
     "data": {
      "image/png": "[encoded data removed]",
      "text/plain": [
       "<Figure size 640x480 with 1 Axes>"
      ]
     },
     "metadata": {},
     "output_type": "display_data"
    }
   ],
   "source": [
    "print_stats(res_array[:,:1])"
   ]
  },
  {
   "cell_type": "markdown",
   "id": "467bd973-9410-448e-a858-521337899f9e",
   "metadata": {},
   "source": [
    "#### b. A reference variable is used to:"
   ]
  },
  {
   "cell_type": "code",
   "execution_count": 11,
   "id": "0084a2c8-1cab-4985-91d3-9ea73bf2c624",
   "metadata": {},
   "outputs": [
    {
     "name": "stdout",
     "output_type": "stream",
     "text": [
      "Results: [[5], [5], [5], [5], [5], [5], [5], [5], [5], [5], [5], [5], [5], [5], [5], [5], [5], [5], [5], [5], [5], [5], [5], [5], [5], [5], [5], [3], [5], [5], [5]]\n",
      "Mean: 4.935483870967742\n",
      "Median: 5.0\n",
      "Mode: 5 With count: 30\n"
     ]
    },
    {
     "data": {
      "image/png": "[encoded data removed]",
      "text/plain": [
       "<Figure size 640x480 with 1 Axes>"
      ]
     },
     "metadata": {},
     "output_type": "display_data"
    }
   ],
   "source": [
    "print_stats(res_array[:,1:2])"
   ]
  },
  {
   "cell_type": "markdown",
   "id": "b2357ac2-d623-4f81-bc69-c5a0d46d59d7",
   "metadata": {},
   "source": [
    "### Question 2\n",
    "\n",
    "#### a. Allocate an array..."
   ]
  },
  {
   "cell_type": "code",
   "execution_count": 12,
   "id": "8cdcc626-3a18-4f49-b170-3a74d50cb387",
   "metadata": {},
   "outputs": [
    {
     "name": "stdout",
     "output_type": "stream",
     "text": [
      "Results: [[4], [3], [5], [1], [5], [5], [3], [5], [5], [5], [3], [5], [5], [3], [4], [1], [3], [5], [1], [3], [5], [5], [5], [3], [5], [5], [5], [3], [5], [5], [3]]\n",
      "Mean: 3.967741935483871\n",
      "Median: 5.0\n",
      "Mode: 5 With count: 17\n"
     ]
    },
    {
     "data": {
      "image/png": "[encoded data removed]",
      "text/plain": [
       "<Figure size 640x480 with 1 Axes>"
      ]
     },
     "metadata": {},
     "output_type": "display_data"
    }
   ],
   "source": [
    "print_stats(res_array[:,2:3])"
   ]
  },
  {
   "cell_type": "markdown",
   "id": "594e0196-423e-43a4-9f5a-2231545da11d",
   "metadata": {},
   "source": [
    "#### b. Delete the array..."
   ]
  },
  {
   "cell_type": "code",
   "execution_count": 13,
   "id": "559a841a-0de1-404c-adfe-b9355f98cd44",
   "metadata": {},
   "outputs": [
    {
     "name": "stdout",
     "output_type": "stream",
     "text": [
      "Results: [[0], [5], [3], [1], [0], [0], [0], [3], [1], [5], [3], [3], [3], [3], [3], [1], [0], [0], [4], [0], [5], [4], [3], [5], [0], [5], [5], [5], [0], [5], [0]]\n",
      "Mean: 2.4193548387096775\n",
      "Median: 3.0\n",
      "Mode: 0 With count: 10\n"
     ]
    },
    {
     "data": {
      "image/png": "[encoded data removed]",
      "text/plain": [
       "<Figure size 640x480 with 1 Axes>"
      ]
     },
     "metadata": {},
     "output_type": "display_data"
    }
   ],
   "source": [
    "print_stats(res_array[:,3:4])"
   ]
  },
  {
   "cell_type": "markdown",
   "id": "3a57b48f-3d74-45e0-a5ba-b3d57bb137ff",
   "metadata": {},
   "source": [
    "## Page results"
   ]
  },
  {
   "cell_type": "code",
   "execution_count": 14,
   "id": "64179693-6b4d-4100-80fc-2e9bc3749e14",
   "metadata": {
    "editable": true,
    "slideshow": {
     "slide_type": ""
    },
    "tags": []
   },
   "outputs": [
    {
     "name": "stdout",
     "output_type": "stream",
     "text": [
      "Results: [[5, 5, 4, 0], [5, 5, 3, 5], [5, 5, 5, 3], [5, 5, 1, 1], [5, 5, 5, 0], [3, 5, 5, 0], [5, 5, 3, 0], [5, 5, 5, 3], [5, 5, 5, 1], [5, 5, 5, 5], [2, 5, 3, 3], [5, 5, 5, 3], [5, 5, 5, 3], [5, 5, 3, 3], [5, 5, 4, 3], [5, 5, 1, 1], [5, 5, 3, 0], [5, 5, 5, 0], [5, 5, 1, 4], [5, 5, 3, 0], [3, 5, 5, 5], [5, 5, 5, 4], [5, 5, 5, 3], [5, 5, 3, 5], [5, 5, 5, 0], [5, 5, 5, 5], [5, 5, 5, 5], [5, 3, 3, 5], [5, 5, 5, 0], [5, 5, 5, 5], [3, 5, 3, 0]]\n",
      "Mean: 4.008064516129032\n",
      "Median: 5.0\n",
      "Mode: 5 With count: 82\n"
     ]
    },
    {
     "data": {
      "image/png": "[encoded data removed]",
      "text/plain": [
       "<Figure size 640x480 with 1 Axes>"
      ]
     },
     "metadata": {},
     "output_type": "display_data"
    }
   ],
   "source": [
    "#| label: fig-page-1-breakdown\n",
    "#| fig-cap: >\n",
    "#|    Results for each question on page 1\n",
    "\n",
    "print_stats(res_array)"
   ]
  },
  {
   "cell_type": "code",
   "execution_count": 15,
   "id": "b0a1afa7-5d18-45dc-a8f4-fde514929551",
   "metadata": {},
   "outputs": [
    {
     "name": "stdout",
     "output_type": "stream",
     "text": [
      "Results: [14, 18, 18, 12, 15, 13, 13, 18, 16, 20, 13, 18, 18, 16, 17, 12, 13, 15, 15, 13, 18, 19, 18, 18, 15, 20, 20, 16, 15, 20, 11]\n",
      "Mean: 16.032258064516128\n",
      "Median: 16.0\n",
      "Mode: 18 With count: 8\n"
     ]
    },
    {
     "data": {
      "image/png": "[encoded data removed]",
      "text/plain": [
       "<Figure size 640x480 with 1 Axes>"
      ]
     },
     "metadata": {},
     "output_type": "display_data"
    }
   ],
   "source": [
    "#| label: fig-page-1-totals\n",
    "#| fig-cap: >\n",
    "#|    Totals for page 1\n",
    "\n",
    "print_stats(np.sum(res_array, axis=1), bins = [x + 0.1 for x in range(9,21)])"
   ]
  },
  {
   "cell_type": "markdown",
   "id": "cd97166a-9e2c-4c3a-a0e7-58179bec24c7",
   "metadata": {},
   "source": [
    "### After scaling"
   ]
  },
  {
   "cell_type": "code",
   "execution_count": 16,
   "id": "8aab9b86-0687-4838-b3b6-ea679f5450ec",
   "metadata": {},
   "outputs": [
    {
     "name": "stdout",
     "output_type": "stream",
     "text": [
      "Results: [17.0, 19.0, 19.0, 16.0, 17.5, 16.5, 16.5, 19.0, 18.0, 20.0, 16.5, 19.0, 19.0, 18.0, 18.5, 16.0, 16.5, 17.5, 17.5, 16.5, 19.0, 19.5, 19.0, 19.0, 17.5, 20.0, 20.0, 18.0, 17.5, 20.0, 15.5]\n",
      "Mean: 18.016129032258064\n",
      "Median: 18.0\n",
      "Mode: 19.0 With count: 8\n"
     ]
    },
    {
     "data": {
      "image/png": "[encoded data removed]",
      "text/plain": [
       "<Figure size 640x480 with 1 Axes>"
      ]
     },
     "metadata": {},
     "output_type": "display_data"
    }
   ],
   "source": [
    "#| label: fig-page-1-scaled\n",
    "#| fig-cap: >\n",
    "#|    Totals for page 1 after scaling\n",
    "\n",
    "f = lambda x: x + (20 - x) / 2\n",
    "\n",
    "print_stats(f(np.sum(res_array, axis=1)), bins = [x + 0.1 for x in range(9,21)])"
   ]
  }
 ],
 "metadata": {
  "kernelspec": {
   "display_name": "Python 3 (ipykernel)",
   "language": "python",
   "name": "python3"
  },
  "language_info": {
   "codemirror_mode": {
    "name": "ipython",
    "version": 3
   },
   "file_extension": ".py",
   "mimetype": "text/x-python",
   "name": "python",
   "nbconvert_exporter": "python",
   "pygments_lexer": "ipython3",
   "version": "3.11.6"
  }
 },
 "nbformat": 4,
 "nbformat_minor": 5
}
